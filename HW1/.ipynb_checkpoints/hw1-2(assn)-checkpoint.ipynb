{
 "cells": [
  {
   "cell_type": "markdown",
   "metadata": {},
   "source": [
    "Copyright @ cb_park@korea.ac.kr (Cheonbok Park), joonleesky@kaist.ac.kr (Hojoon Lee)"
   ]
  },
  {
   "cell_type": "markdown",
   "metadata": {},
   "source": [
    "## Convolutional Neural Network"
   ]
  },
  {
   "cell_type": "code",
   "execution_count": 1,
   "metadata": {
    "colab": {
     "base_uri": "https://localhost:8080/",
     "height": 54
    },
    "colab_type": "code",
    "id": "kbrl4jxKGFo8",
    "outputId": "dd741541-95a5-4025-ee46-1a071f8eb552"
   },
   "outputs": [],
   "source": [
    "import torch\n",
    "import torch.nn as nn\n",
    "from torch.autograd import Variable\n",
    "import torchvision.datasets as datasets\n",
    "import torchvision.transforms as transforms"
   ]
  },
  {
   "cell_type": "markdown",
   "metadata": {
    "colab": {},
    "colab_type": "code",
    "id": "w5ac4lIO1BHI"
   },
   "source": [
    "## Below are the all identical neural network with different expression"
   ]
  },
  {
   "cell_type": "code",
   "execution_count": null,
   "metadata": {
    "colab": {},
    "colab_type": "code",
    "id": "8KKIXyHOHmt0"
   },
   "outputs": [],
   "source": [
    "class CNN1(nn.Module):\n",
    "    def __init__(self): # input image = batch_size x 3 x 32 x 32\n",
    "        super(CNN1, self).__init__()\n",
    "        \n",
    "        self.conv = nn.Conv2d(3, 64, kernel_size=3, padding=1)\n",
    "        self.relu = nn.ReLU()\n",
    "        self.maxpool = nn.MaxPool2d(2)\n",
    "\n",
    "    def forward(self, x):\n",
    "        out = self.conv(x)\n",
    "        out = self.relu(out)\n",
    "        out = self.maxpool(out)\n",
    "        return out  # input image = batch_size x 3 x 16 x 16\n",
    "\n",
    "    \n",
    "class CNN2(nn.Module):\n",
    "    def __init__(self): # input image = batch_size x 3 x 32 x 32\n",
    "        super(CNN2, self).__init__()\n",
    "\n",
    "        self.layer = nn.Sequential(\n",
    "            nn.Conv2d(3, 64, kernel_size=3, padding=1),\n",
    "            nn.ReLU(),\n",
    "            nn.MaxPool2d(2))\n",
    "\n",
    "    def forward(self, x):\n",
    "        out = self.layer(x)\n",
    "        return out  # input image = batch_size x 3 x 16 x 16      \n",
    "      \n",
    "\n",
    "class CNN3(nn.Module):\n",
    "    def __init__(self): # input image = batch_size x 3 x 32 x 32\n",
    "        super(CNN3, self).__init__()\n",
    "        layer = []\n",
    "        \n",
    "        layer.append(nn.Conv2d(3, 64, kernel_size=3, padding=1))\n",
    "        layer.append(nn.ReLU())\n",
    "        layer.append(nn.MaxPool2d(2))\n",
    "        \n",
    "        self.layer = nn.Sequential(*layer)\n",
    "\n",
    "    def forward(self, x):\n",
    "        out = self.layer(x)\n",
    "        return out  # input image = batch_size x 3 x 16 x 16"
   ]
  },
  {
   "cell_type": "code",
   "execution_count": null,
   "metadata": {},
   "outputs": [],
   "source": [
    "sample_image = Variable(torch.zeros(64, 3, 32, 32))"
   ]
  },
  {
   "cell_type": "code",
   "execution_count": null,
   "metadata": {
    "colab": {
     "base_uri": "https://localhost:8080/",
     "height": 125
    },
    "colab_type": "code",
    "executionInfo": {
     "elapsed": 931,
     "status": "ok",
     "timestamp": 1525923226388,
     "user": {
      "displayName": "Keetae park",
      "photoUrl": "//lh4.googleusercontent.com/-HRf48e0fZvg/AAAAAAAAAAI/AAAAAAAAARU/UAGYNn-FRto/s50-c-k-no/photo.jpg",
      "userId": "112755870975618660481"
     },
     "user_tz": -540
    },
    "id": "AyKFlPpoH4SS",
    "outputId": "ae954b71-d223-4dd9-c20a-e158fd1723f1"
   },
   "outputs": [],
   "source": [
    "cnn = CNN1()\n",
    "print(cnn)\n",
    "output = cnn(sample_image)\n",
    "print(output.size())"
   ]
  },
  {
   "cell_type": "code",
   "execution_count": null,
   "metadata": {
    "colab": {
     "base_uri": "https://localhost:8080/",
     "height": 161
    },
    "colab_type": "code",
    "executionInfo": {
     "elapsed": 665,
     "status": "ok",
     "timestamp": 1525923228535,
     "user": {
      "displayName": "Keetae park",
      "photoUrl": "//lh4.googleusercontent.com/-HRf48e0fZvg/AAAAAAAAAAI/AAAAAAAAARU/UAGYNn-FRto/s50-c-k-no/photo.jpg",
      "userId": "112755870975618660481"
     },
     "user_tz": -540
    },
    "id": "pWioOF2KJYtT",
    "outputId": "3e85ac02-a38f-44ce-e897-652a94a3f5dc"
   },
   "outputs": [],
   "source": [
    "cnn = CNN2()\n",
    "print(cnn)\n",
    "output = cnn(sample_image)\n",
    "print(output.size())"
   ]
  },
  {
   "cell_type": "code",
   "execution_count": null,
   "metadata": {
    "colab": {
     "base_uri": "https://localhost:8080/",
     "height": 161
    },
    "colab_type": "code",
    "executionInfo": {
     "elapsed": 605,
     "status": "ok",
     "timestamp": 1525923230072,
     "user": {
      "displayName": "Keetae park",
      "photoUrl": "//lh4.googleusercontent.com/-HRf48e0fZvg/AAAAAAAAAAI/AAAAAAAAARU/UAGYNn-FRto/s50-c-k-no/photo.jpg",
      "userId": "112755870975618660481"
     },
     "user_tz": -540
    },
    "id": "_ZZc7uUVJY1Y",
    "outputId": "c1b95185-2d21-4138-ec52-1faaf548bfb5"
   },
   "outputs": [],
   "source": [
    "cnn = CNN3()\n",
    "print(cnn)\n",
    "output = cnn(sample_image)\n",
    "print(output.size())"
   ]
  },
  {
   "cell_type": "markdown",
   "metadata": {
    "colab_type": "text",
    "id": "Xc34AFr-EtJ7"
   },
   "source": [
    "### Let's practice creating the Convolutional Neural Network"
   ]
  },
  {
   "cell_type": "code",
   "execution_count": 40,
   "metadata": {
    "colab": {},
    "colab_type": "code",
    "id": "Fc-cfHRxEwab"
   },
   "outputs": [],
   "source": [
    "class CNN_prac(nn.Module):\n",
    "    def __init__(self): # input image = batch_size x 3 x 32 x 32\n",
    "        super(CNN_prac, self).__init__()\n",
    "        self.conv1 = nn.Conv2d(3, 512, 3, 1, 1) \n",
    "        self.conv2 = nn.Conv2d(512, 256, 3, 1, 1) \n",
    "        self.conv3 = nn.Conv2d(256, 256, 3, 2, 1) \n",
    "        self.conv4 = nn.Conv2d(256, 256, 3, 4, 0) \n",
    "\n",
    "        self.linear = nn.Linear(256*4*4, 10)\n",
    "    def forward(self, x):\n",
    "        out=self.conv1(x)\n",
    "        out=self.conv2(out)\n",
    "        out=self.conv3(out)\n",
    "        out=self.conv4(out)\n",
    "        out = out.contiguous().view(-1, 256*4*4)\n",
    "        out = self.linear(out)\n",
    "        return out"
   ]
  },
  {
   "cell_type": "code",
   "execution_count": 41,
   "metadata": {
    "colab": {
     "base_uri": "https://localhost:8080/",
     "height": 161
    },
    "colab_type": "code",
    "executionInfo": {
     "elapsed": 4263,
     "status": "ok",
     "timestamp": 1525923214993,
     "user": {
      "displayName": "Keetae park",
      "photoUrl": "//lh4.googleusercontent.com/-HRf48e0fZvg/AAAAAAAAAAI/AAAAAAAAARU/UAGYNn-FRto/s50-c-k-no/photo.jpg",
      "userId": "112755870975618660481"
     },
     "user_tz": -540
    },
    "id": "gFpbf_4cKUdG",
    "outputId": "dccdb6dd-711f-491b-81b7-2adde421195e"
   },
   "outputs": [
    {
     "name": "stdout",
     "output_type": "stream",
     "text": [
      "torch.Size([64, 10])\n",
      "CNN_prac(\n",
      "  (conv1): Conv2d(3, 512, kernel_size=(3, 3), stride=(1, 1), padding=(1, 1))\n",
      "  (conv2): Conv2d(512, 256, kernel_size=(3, 3), stride=(1, 1), padding=(1, 1))\n",
      "  (conv3): Conv2d(256, 256, kernel_size=(3, 3), stride=(2, 2), padding=(1, 1))\n",
      "  (conv4): Conv2d(256, 256, kernel_size=(3, 3), stride=(4, 4))\n",
      "  (linear): Linear(in_features=4096, out_features=10, bias=True)\n",
      ")\n"
     ]
    }
   ],
   "source": [
    "cnn_prac=CNN_prac()\n",
    "sample_image = Variable(torch.zeros(64, 3, 32, 32))\n",
    "output=cnn_prac(sample_image)\n",
    "print(output.size()) \n",
    "print(cnn_prac)"
   ]
  },
  {
   "cell_type": "markdown",
   "metadata": {
    "colab_type": "text",
    "id": "f0oDpcezKlYK"
   },
   "source": [
    "## VGG-19"
   ]
  },
  {
   "cell_type": "markdown",
   "metadata": {},
   "source": [
    "### Let's create by yourself"
   ]
  },
  {
   "cell_type": "code",
   "execution_count": 2,
   "metadata": {
    "colab": {},
    "colab_type": "code",
    "id": "EAZWOam78RgJ"
   },
   "outputs": [],
   "source": [
    "class ConvBlock1(nn.Module):\n",
    "\n",
    "    def __init__(self, in_dim, out_dim):\n",
    "        super(ConvBlock1, self).__init__()\n",
    "        \n",
    "        self.in_dim = in_dim\n",
    "        self.out_dim = out_dim\n",
    "        \n",
    "        self.main = nn.Sequential(nn.Conv2d(self.in_dim, self.out_dim, kernel_size=3, padding=1),                    \n",
    "                                  nn.BatchNorm2d(self.out_dim),\n",
    "                                  nn.ReLU(),\n",
    "                                  nn.Conv2d(self.out_dim, self.out_dim, kernel_size=3, padding=1),\n",
    "                                  nn.BatchNorm2d(self.out_dim),\n",
    "                                  nn.ReLU(),\n",
    "                                  nn.MaxPool2d(2),\n",
    "                                 )\n",
    "        \n",
    "    def forward(self, x):\n",
    "        out = self.main(x)\n",
    "        return out"
   ]
  },
  {
   "cell_type": "code",
   "execution_count": 3,
   "metadata": {
    "colab": {},
    "colab_type": "code",
    "id": "mGFf0M428Y90"
   },
   "outputs": [],
   "source": [
    "class ConvBlock2(nn.Module):\n",
    "\n",
    "    def __init__(self, in_dim, out_dim):\n",
    "        super(ConvBlock2, self).__init__()\n",
    "        \n",
    "        self.in_dim = in_dim\n",
    "        self.out_dim = out_dim\n",
    "        \n",
    "        self.main = nn.Sequential(nn.Conv2d(self.in_dim, self.out_dim, kernel_size=3, padding=1),                    \n",
    "                                  nn.BatchNorm2d(self.out_dim),\n",
    "                                  nn.ReLU(),\n",
    "                                  nn.Conv2d(self.out_dim, self.out_dim, kernel_size=3, padding=1),                    \n",
    "                                  nn.BatchNorm2d(self.out_dim),\n",
    "                                  nn.ReLU(),\n",
    "                                  nn.Conv2d(self.out_dim, self.out_dim, kernel_size=3, padding=1),                    \n",
    "                                  nn.BatchNorm2d(self.out_dim),\n",
    "                                  nn.ReLU(),\n",
    "                                  nn.Conv2d(self.out_dim, self.out_dim, kernel_size=3, padding=1),                    \n",
    "                                  nn.BatchNorm2d(self.out_dim),\n",
    "                                  nn.ReLU(),\n",
    "                                  nn.MaxPool2d(2),\n",
    "                                 )\n",
    "        \n",
    "    def forward(self, x):\n",
    "        out = self.main(x)\n",
    "        return out"
   ]
  },
  {
   "cell_type": "code",
   "execution_count": 4,
   "metadata": {
    "colab": {},
    "colab_type": "code",
    "id": "t64ZySpa-4uH"
   },
   "outputs": [],
   "source": [
    "class VGG19(nn.Module):\n",
    "  \n",
    "    def __init__(self):\n",
    "        super(VGG19, self).__init__()\n",
    "        \n",
    "        self.convlayer1 = ConvBlock1(3, 64)\n",
    "        self.convlayer2 = ConvBlock1(64, 128)\n",
    "        self.convlayer3 = ConvBlock2(128, 256)\n",
    "        self.convlayer4 = ConvBlock2(256, 512)\n",
    "        self.convlayer5 = ConvBlock2(512, 512)\n",
    "        self.linear = nn.Sequential(\n",
    "            nn.Linear(512, 512),\n",
    "            nn.ReLU(),\n",
    "            nn.Linear(512, 128),\n",
    "            nn.ReLU(),\n",
    "            nn.Linear(128, 10),\n",
    "        )\n",
    "    def forward(self, input):\n",
    "        out = self.convlayer1(input)    \n",
    "        out = self.convlayer2(out)\n",
    "        out = self.convlayer3(out)\n",
    "        out = self.convlayer4(out)\n",
    "        out = self.convlayer5(out).squeeze() # 16 x 512 x 1 x 1에서 뒤 1 x 1 축약 \n",
    "        out = self.linear(out)\n",
    "        return out\n"
   ]
  },
  {
   "cell_type": "markdown",
   "metadata": {},
   "source": [
    "## Test Your Impelemetation by number of parameters"
   ]
  },
  {
   "cell_type": "code",
   "execution_count": 44,
   "metadata": {
    "colab": {
     "base_uri": "https://localhost:8080/",
     "height": 1511
    },
    "colab_type": "code",
    "executionInfo": {
     "elapsed": 2318,
     "status": "ok",
     "timestamp": 1525924000228,
     "user": {
      "displayName": "Keetae park",
      "photoUrl": "//lh4.googleusercontent.com/-HRf48e0fZvg/AAAAAAAAAAI/AAAAAAAAARU/UAGYNn-FRto/s50-c-k-no/photo.jpg",
      "userId": "112755870975618660481"
     },
     "user_tz": -540
    },
    "id": "JD3mx_XCJudH",
    "outputId": "7ee410ff-41b8-4f60-94a1-6e9613d4b7ba"
   },
   "outputs": [
    {
     "name": "stdout",
     "output_type": "stream",
     "text": [
      "VGG19(\n",
      "  (convlayer1): ConvBlock1(\n",
      "    (main): Sequential(\n",
      "      (0): Conv2d(3, 64, kernel_size=(3, 3), stride=(1, 1), padding=(1, 1))\n",
      "      (1): BatchNorm2d(64, eps=1e-05, momentum=0.1, affine=True, track_running_stats=True)\n",
      "      (2): ReLU()\n",
      "      (3): Conv2d(64, 64, kernel_size=(3, 3), stride=(1, 1), padding=(1, 1))\n",
      "      (4): BatchNorm2d(64, eps=1e-05, momentum=0.1, affine=True, track_running_stats=True)\n",
      "      (5): ReLU()\n",
      "      (6): MaxPool2d(kernel_size=2, stride=2, padding=0, dilation=1, ceil_mode=False)\n",
      "    )\n",
      "  )\n",
      "  (convlayer2): ConvBlock1(\n",
      "    (main): Sequential(\n",
      "      (0): Conv2d(64, 128, kernel_size=(3, 3), stride=(1, 1), padding=(1, 1))\n",
      "      (1): BatchNorm2d(128, eps=1e-05, momentum=0.1, affine=True, track_running_stats=True)\n",
      "      (2): ReLU()\n",
      "      (3): Conv2d(128, 128, kernel_size=(3, 3), stride=(1, 1), padding=(1, 1))\n",
      "      (4): BatchNorm2d(128, eps=1e-05, momentum=0.1, affine=True, track_running_stats=True)\n",
      "      (5): ReLU()\n",
      "      (6): MaxPool2d(kernel_size=2, stride=2, padding=0, dilation=1, ceil_mode=False)\n",
      "    )\n",
      "  )\n",
      "  (convlayer3): ConvBlock2(\n",
      "    (main): Sequential(\n",
      "      (0): Conv2d(128, 256, kernel_size=(3, 3), stride=(1, 1), padding=(1, 1))\n",
      "      (1): BatchNorm2d(256, eps=1e-05, momentum=0.1, affine=True, track_running_stats=True)\n",
      "      (2): ReLU()\n",
      "      (3): Conv2d(256, 256, kernel_size=(3, 3), stride=(1, 1), padding=(1, 1))\n",
      "      (4): BatchNorm2d(256, eps=1e-05, momentum=0.1, affine=True, track_running_stats=True)\n",
      "      (5): ReLU()\n",
      "      (6): Conv2d(256, 256, kernel_size=(3, 3), stride=(1, 1), padding=(1, 1))\n",
      "      (7): BatchNorm2d(256, eps=1e-05, momentum=0.1, affine=True, track_running_stats=True)\n",
      "      (8): ReLU()\n",
      "      (9): Conv2d(256, 256, kernel_size=(3, 3), stride=(1, 1), padding=(1, 1))\n",
      "      (10): BatchNorm2d(256, eps=1e-05, momentum=0.1, affine=True, track_running_stats=True)\n",
      "      (11): ReLU()\n",
      "      (12): MaxPool2d(kernel_size=2, stride=2, padding=0, dilation=1, ceil_mode=False)\n",
      "    )\n",
      "  )\n",
      "  (convlayer4): ConvBlock2(\n",
      "    (main): Sequential(\n",
      "      (0): Conv2d(256, 512, kernel_size=(3, 3), stride=(1, 1), padding=(1, 1))\n",
      "      (1): BatchNorm2d(512, eps=1e-05, momentum=0.1, affine=True, track_running_stats=True)\n",
      "      (2): ReLU()\n",
      "      (3): Conv2d(512, 512, kernel_size=(3, 3), stride=(1, 1), padding=(1, 1))\n",
      "      (4): BatchNorm2d(512, eps=1e-05, momentum=0.1, affine=True, track_running_stats=True)\n",
      "      (5): ReLU()\n",
      "      (6): Conv2d(512, 512, kernel_size=(3, 3), stride=(1, 1), padding=(1, 1))\n",
      "      (7): BatchNorm2d(512, eps=1e-05, momentum=0.1, affine=True, track_running_stats=True)\n",
      "      (8): ReLU()\n",
      "      (9): Conv2d(512, 512, kernel_size=(3, 3), stride=(1, 1), padding=(1, 1))\n",
      "      (10): BatchNorm2d(512, eps=1e-05, momentum=0.1, affine=True, track_running_stats=True)\n",
      "      (11): ReLU()\n",
      "      (12): MaxPool2d(kernel_size=2, stride=2, padding=0, dilation=1, ceil_mode=False)\n",
      "    )\n",
      "  )\n",
      "  (convlayer5): ConvBlock2(\n",
      "    (main): Sequential(\n",
      "      (0): Conv2d(512, 512, kernel_size=(3, 3), stride=(1, 1), padding=(1, 1))\n",
      "      (1): BatchNorm2d(512, eps=1e-05, momentum=0.1, affine=True, track_running_stats=True)\n",
      "      (2): ReLU()\n",
      "      (3): Conv2d(512, 512, kernel_size=(3, 3), stride=(1, 1), padding=(1, 1))\n",
      "      (4): BatchNorm2d(512, eps=1e-05, momentum=0.1, affine=True, track_running_stats=True)\n",
      "      (5): ReLU()\n",
      "      (6): Conv2d(512, 512, kernel_size=(3, 3), stride=(1, 1), padding=(1, 1))\n",
      "      (7): BatchNorm2d(512, eps=1e-05, momentum=0.1, affine=True, track_running_stats=True)\n",
      "      (8): ReLU()\n",
      "      (9): Conv2d(512, 512, kernel_size=(3, 3), stride=(1, 1), padding=(1, 1))\n",
      "      (10): BatchNorm2d(512, eps=1e-05, momentum=0.1, affine=True, track_running_stats=True)\n",
      "      (11): ReLU()\n",
      "      (12): MaxPool2d(kernel_size=2, stride=2, padding=0, dilation=1, ceil_mode=False)\n",
      "    )\n",
      "  )\n",
      "  (linear): Sequential(\n",
      "    (0): Linear(in_features=512, out_features=512, bias=True)\n",
      "    (1): ReLU()\n",
      "    (2): Linear(in_features=512, out_features=128, bias=True)\n",
      "    (3): ReLU()\n",
      "    (4): Linear(in_features=128, out_features=10, bias=True)\n",
      "  )\n",
      ")\n",
      "torch.Size([64, 10])\n"
     ]
    }
   ],
   "source": [
    "vgg19 = VGG19()\n",
    "print(vgg19)\n",
    "\n",
    "output = vgg19(sample_image)\n",
    "print(output.size())"
   ]
  },
  {
   "cell_type": "code",
   "execution_count": 45,
   "metadata": {
    "colab": {
     "base_uri": "https://localhost:8080/",
     "height": 35
    },
    "colab_type": "code",
    "executionInfo": {
     "elapsed": 626,
     "status": "ok",
     "timestamp": 1525923971864,
     "user": {
      "displayName": "Keetae park",
      "photoUrl": "//lh4.googleusercontent.com/-HRf48e0fZvg/AAAAAAAAAAI/AAAAAAAAARU/UAGYNn-FRto/s50-c-k-no/photo.jpg",
      "userId": "112755870975618660481"
     },
     "user_tz": -540
    },
    "id": "LhsmJFl3J_ur",
    "outputId": "fbf76503-38f7-4aeb-c857-ecf15cad76f2"
   },
   "outputs": [
    {
     "name": "stdout",
     "output_type": "stream",
     "text": [
      "success!\n"
     ]
    }
   ],
   "source": [
    "def count_parameters(model):\n",
    "    return sum(p.numel() for p in model.parameters() if p.requires_grad)\n",
    "if count_parameters(vgg19) == 20365002:\n",
    "    print('success!')"
   ]
  },
  {
   "cell_type": "markdown",
   "metadata": {
    "colab_type": "text",
    "id": "gf4OKtLe5mbx"
   },
   "source": [
    "# CIFAR-10 Dataset\n",
    "\n",
    "50000 training images  \\\n",
    "10000 validation images \\\n",
    "\\\n",
    "10 classes = [airplane, car, truck, frog, ...]\n",
    "\\\n",
    "for more info, https://www.cs.toronto.edu/~kriz/cifar.html \n",
    "\n"
   ]
  },
  {
   "cell_type": "code",
   "execution_count": 5,
   "metadata": {
    "colab": {},
    "colab_type": "code",
    "id": "-f1-pzCsPq6W"
   },
   "outputs": [],
   "source": [
    "# set hyperparameters\n",
    "batch_size = 64\n",
    "learning_rate = 0.0001\n",
    "num_epochs = 4"
   ]
  },
  {
   "cell_type": "code",
   "execution_count": 6,
   "metadata": {
    "colab": {
     "base_uri": "https://localhost:8080/",
     "height": 35
    },
    "colab_type": "code",
    "executionInfo": {
     "elapsed": 1899,
     "status": "ok",
     "timestamp": 1525928134900,
     "user": {
      "displayName": "Keetae park",
      "photoUrl": "//lh4.googleusercontent.com/-HRf48e0fZvg/AAAAAAAAAAI/AAAAAAAAARU/UAGYNn-FRto/s50-c-k-no/photo.jpg",
      "userId": "112755870975618660481"
     },
     "user_tz": -540
    },
    "id": "qajNxxseGGB6",
    "outputId": "b3085fe4-1208-4648-df37-0f07cbafa1de"
   },
   "outputs": [
    {
     "name": "stdout",
     "output_type": "stream",
     "text": [
      "Files already downloaded and verified\n"
     ]
    }
   ],
   "source": [
    "# import torchvision.datasets as datasets\n",
    "\n",
    "train_dataset = datasets.CIFAR10(root='./data/',       # 50000장\n",
    "                            train=True, \n",
    "                            transform=transforms.ToTensor(),\n",
    "                            download=True)\n",
    "\n",
    "test_dataset = datasets.CIFAR10(root='./data/',        # 10000장\n",
    "                           train=False, \n",
    "                           transform=transforms.ToTensor())\n",
    "\n",
    "# 데이터 로더\n",
    "train_loader = torch.utils.data.DataLoader(dataset=train_dataset,\n",
    "                                           batch_size=batch_size, \n",
    "                                           shuffle=True)\n",
    "\n",
    "test_loader = torch.utils.data.DataLoader(dataset=test_dataset,\n",
    "                                          batch_size=batch_size, \n",
    "                                          shuffle=True)"
   ]
  },
  {
   "cell_type": "code",
   "execution_count": 38,
   "metadata": {
    "colab": {},
    "colab_type": "code",
    "id": "vdz7yTsFOtuf"
   },
   "outputs": [],
   "source": [
    "import matplotlib.pyplot as plt\n",
    "import numpy as np\n",
    "from sklearn.metrics import confusion_matrix\n",
    "\n",
    "\n",
    "def show_cifar10():\n",
    "    for images, _ in train_loader:\n",
    "        plt.figure(figsize=(8,8))\n",
    "        images_to_show = images.numpy().transpose((0,2,3,1))\n",
    "\n",
    "        for a in range(331, 340):  \n",
    "            plt.subplot(a)\n",
    "            plt.imshow(images_to_show[a-331])\n",
    "            plt.xticks([])\n",
    "            plt.yticks([])    \n",
    "            plt.show()   \n",
    "        break\n",
    "    return 0\n",
    "\n",
    "\n",
    "def loss_plot(acc):  \n",
    "    plt.plot(acc)\n",
    "    plt.xlabel('log')\n",
    "    plt.ylabel('accuracy')\n",
    "    plt.grid(True)\n",
    "    plt.show()\n",
    "    return 0\n",
    "\n",
    "import time\n",
    "class Timer():    \n",
    "    def __init__(self):\n",
    "        self.cur_t = time.time()\n",
    "\n",
    "    def tic(self):\n",
    "        self.cur_t = time.time()\n",
    "\n",
    "    def toc(self):\n",
    "        return time.time() - self.cur_t\n",
    "\n",
    "    def tocStr(self, t=-1):\n",
    "        if (t == -1):\n",
    "            return str(datetime.timedelta(seconds=np.round(time.time() - self.cur_t, 3)))[:-4]\n",
    "        else:\n",
    "            return str(datetime.timedelta(seconds=np.round(t, 3)))[:-4]\n",
    "          \n",
    "\n",
    "def test_on_cifar10(model, accuracy_list):  \n",
    "    # Test the Model       \n",
    "    model.eval()    # Change model to 'eval' mode (BN uses moving mean/var).\n",
    "    correct = 0\n",
    "    total = 0\n",
    "    for j, (images, labels) in enumerate(test_loader):\n",
    "        images = Variable(images).cuda()\n",
    "        outputs = model(images)\n",
    "        _, predicted = torch.max(outputs.data, 1)\n",
    "        total += labels.size(0)\n",
    "        correct += (predicted.cpu() == labels).sum().data\n",
    "        if (j+1)%100==0:\n",
    "            break\n",
    "    print('Test Accuracy of the model on the 100 test images: %d %%' % (100 * int(correct) / int(total)))\n",
    "    accuracy_list.append(100 * int(correct) / int(total))\n",
    "#     print('Test Accuracy of the model on the 100 test images: %d %%' % (100 * torch.true_divide(correct, total)))\n",
    "#     accuracy_list.append(100 * torch.true_divide(correct, total)) \n",
    "    return accuracy_list\n",
    "\n",
    "\n",
    "def conf_on_cifar10(model):  \n",
    "    # Test the Model       \n",
    "    model.eval()    # Change model to 'eval' mode (BN uses moving mean/var).\n",
    "    correct = 0\n",
    "    total = 0\n",
    "\n",
    "    # Data for confusion matrix\n",
    "    conf_true = torch.zeros(0, dtype=torch.long, device='cpu')\n",
    "    conf_pred = torch.zeros(0, dtype=torch.long, device='cpu')\n",
    "\n",
    "    for j, (images, labels) in enumerate(test_loader):\n",
    "        images = Variable(images).cuda()\n",
    "        outputs = model(images)\n",
    "        _, predicted = torch.max(outputs.data, 1)\n",
    "\n",
    "        # Append batch prediction results for confusion matrix\n",
    "        conf_true = torch.cat([conf_true, labels.view(-1).cpu()])\n",
    "        conf_pred = torch.cat([conf_pred, predicted.view(-1).cpu()])\n",
    "\n",
    "\n",
    "    label_name = ['air', 'auto', 'bird', 'cat', 'deer', 'dog',\n",
    "                  'frog', 'horse', 'ship', 'truck']\n",
    "    conf_mat = confusion_matrix(conf_true.numpy(), conf_pred.numpy(), labels=[i for i in range(10)])\n",
    "    print('\\nConfusion matrix\\n')\n",
    "    print(conf_mat)\n",
    "\n",
    "    fig = plt.figure()\n",
    "    ax = fig.add_subplot(111)\n",
    "    for i in range(10):\n",
    "            for j in range(10):\n",
    "                texts = ax.text(j, i, conf_mat[i, j], ha=\"center\", va=\"center\", color=\"w\")\n",
    "    cax = ax.matshow(conf_mat)\n",
    "    fig.colorbar(cax)\n",
    "    ax.set_xticks([i for i in range(10)])\n",
    "    ax.set_yticks([i for i in range(10)])\n",
    "    ax.set_xticklabels(label_name)\n",
    "    ax.set_yticklabels(label_name)\n",
    "    plt.xlabel('Predicted')\n",
    "    plt.ylabel('True')\n",
    "    plt.show()"
   ]
  },
  {
   "cell_type": "code",
   "execution_count": 30,
   "metadata": {
    "colab": {
     "base_uri": "https://localhost:8080/",
     "height": 484
    },
    "colab_type": "code",
    "executionInfo": {
     "elapsed": 1011,
     "status": "ok",
     "timestamp": 1525925981302,
     "user": {
      "displayName": "Keetae park",
      "photoUrl": "//lh4.googleusercontent.com/-HRf48e0fZvg/AAAAAAAAAAI/AAAAAAAAARU/UAGYNn-FRto/s50-c-k-no/photo.jpg",
      "userId": "112755870975618660481"
     },
     "user_tz": -540
    },
    "id": "ZVfe387o5eVm",
    "outputId": "d348e7b8-6f00-4155-8371-4be6c247d806"
   },
   "outputs": [
    {
     "data": {
      "image/png": "[encoded data removed]",
      "text/plain": [
       "<Figure size 576x576 with 1 Axes>"
      ]
     },
     "metadata": {},
     "output_type": "display_data"
    },
    {
     "data": {
      "image/png": "[encoded data removed]",
      "text/plain": [
       "<Figure size 432x288 with 1 Axes>"
      ]
     },
     "metadata": {},
     "output_type": "display_data"
    },
    {
     "data": {
      "image/png": "[encoded data removed]",
      "text/plain": [
       "<Figure size 432x288 with 1 Axes>"
      ]
     },
     "metadata": {},
     "output_type": "display_data"
    },
    {
     "data": {
      "image/png": "[encoded data removed]",
      "text/plain": [
       "<Figure size 432x288 with 1 Axes>"
      ]
     },
     "metadata": {},
     "output_type": "display_data"
    },
    {
     "data": {
      "image/png": "[encoded data removed]",
      "text/plain": [
       "<Figure size 432x288 with 1 Axes>"
      ]
     },
     "metadata": {},
     "output_type": "display_data"
    },
    {
     "data": {
      "image/png": "[encoded data removed]",
      "text/plain": [
       "<Figure size 432x288 with 1 Axes>"
      ]
     },
     "metadata": {},
     "output_type": "display_data"
    },
    {
     "data": {
      "image/png": "[encoded data removed]",
      "text/plain": [
       "<Figure size 432x288 with 1 Axes>"
      ]
     },
     "metadata": {},
     "output_type": "display_data"
    },
    {
     "data": {
      "image/png": "[encoded data removed]",
      "text/plain": [
       "<Figure size 432x288 with 1 Axes>"
      ]
     },
     "metadata": {},
     "output_type": "display_data"
    },
    {
     "data": {
      "image/png": "[encoded data removed]",
      "text/plain": [
       "<Figure size 432x288 with 1 Axes>"
      ]
     },
     "metadata": {},
     "output_type": "display_data"
    },
    {
     "data": {
      "text/plain": [
       "0"
      ]
     },
     "execution_count": 30,
     "metadata": {},
     "output_type": "execute_result"
    }
   ],
   "source": [
    "show_cifar10()"
   ]
  },
  {
   "cell_type": "markdown",
   "metadata": {
    "colab_type": "text",
    "id": "1sITqCxfOWjv"
   },
   "source": [
    "## Train Cifar-10 with your VGG-19"
   ]
  },
  {
   "cell_type": "code",
   "execution_count": 42,
   "metadata": {
    "colab": {
     "base_uri": "https://localhost:8080/",
     "height": 1864
    },
    "colab_type": "code",
    "executionInfo": {
     "elapsed": 808578,
     "status": "error",
     "timestamp": 1525929428853,
     "user": {
      "displayName": "Keetae park",
      "photoUrl": "//lh4.googleusercontent.com/-HRf48e0fZvg/AAAAAAAAAAI/AAAAAAAAARU/UAGYNn-FRto/s50-c-k-no/photo.jpg",
      "userId": "112755870975618660481"
     },
     "user_tz": -540
    },
    "id": "bd15jgp-Thej",
    "outputId": "0a84ac2d-9f40-4927-c8a1-d9b3e3d1191a"
   },
   "outputs": [
    {
     "name": "stdout",
     "output_type": "stream",
     "text": [
      "Epoch [1/4], Iter [100/781] Loss: 1.6227, iter_time: 2.74\n",
      "correct : 2277\n",
      "total : 6400\n",
      "Test Accuracy of the model on the 100 test images: 35 %\n",
      "Epoch [1/4], Iter [200/781] Loss: 1.7116, iter_time: 3.69\n",
      "correct : 2418\n",
      "total : 6400\n",
      "Test Accuracy of the model on the 100 test images: 37 %\n",
      "Epoch [1/4], Iter [300/781] Loss: 1.8772, iter_time: 3.74\n",
      "correct : 2694\n",
      "total : 6400\n",
      "Test Accuracy of the model on the 100 test images: 42 %\n",
      "Epoch [1/4], Iter [400/781] Loss: 1.3147, iter_time: 3.81\n",
      "correct : 2708\n",
      "total : 6400\n",
      "Test Accuracy of the model on the 100 test images: 42 %\n",
      "Epoch [1/4], Iter [500/781] Loss: 1.4830, iter_time: 3.76\n",
      "correct : 3048\n",
      "total : 6400\n",
      "Test Accuracy of the model on the 100 test images: 47 %\n",
      "Epoch [1/4], Iter [600/781] Loss: 1.4290, iter_time: 3.72\n",
      "correct : 3054\n",
      "total : 6400\n",
      "Test Accuracy of the model on the 100 test images: 47 %\n",
      "Epoch [1/4], Iter [700/781] Loss: 1.3857, iter_time: 3.80\n",
      "correct : 2966\n",
      "total : 6400\n",
      "Test Accuracy of the model on the 100 test images: 46 %\n"
     ]
    },
    {
     "data": {
      "image/png": "[encoded data removed]",
      "text/plain": [
       "<Figure size 432x288 with 1 Axes>"
      ]
     },
     "metadata": {
      "needs_background": "light"
     },
     "output_type": "display_data"
    },
    {
     "name": "stdout",
     "output_type": "stream",
     "text": [
      "Epoch [2/4], Iter [100/781] Loss: 1.3595, iter_time: 5.92\n",
      "correct : 3595\n",
      "total : 6400\n",
      "Test Accuracy of the model on the 100 test images: 56 %\n",
      "Epoch [2/4], Iter [200/781] Loss: 1.4351, iter_time: 3.81\n",
      "correct : 3380\n",
      "total : 6400\n",
      "Test Accuracy of the model on the 100 test images: 52 %\n",
      "Epoch [2/4], Iter [300/781] Loss: 1.0696, iter_time: 3.79\n",
      "correct : 3685\n",
      "total : 6400\n",
      "Test Accuracy of the model on the 100 test images: 57 %\n",
      "Epoch [2/4], Iter [400/781] Loss: 1.3630, iter_time: 3.74\n",
      "correct : 3750\n",
      "total : 6400\n",
      "Test Accuracy of the model on the 100 test images: 58 %\n",
      "Epoch [2/4], Iter [500/781] Loss: 0.9392, iter_time: 3.77\n",
      "correct : 3786\n",
      "total : 6400\n",
      "Test Accuracy of the model on the 100 test images: 59 %\n",
      "Epoch [2/4], Iter [600/781] Loss: 1.0551, iter_time: 3.79\n",
      "correct : 3896\n",
      "total : 6400\n",
      "Test Accuracy of the model on the 100 test images: 60 %\n",
      "Epoch [2/4], Iter [700/781] Loss: 1.0722, iter_time: 3.76\n",
      "correct : 4039\n",
      "total : 6400\n",
      "Test Accuracy of the model on the 100 test images: 63 %\n"
     ]
    },
    {
     "data": {
      "image/png": "[encoded data removed]",
      "text/plain": [
       "<Figure size 432x288 with 1 Axes>"
      ]
     },
     "metadata": {
      "needs_background": "light"
     },
     "output_type": "display_data"
    },
    {
     "name": "stdout",
     "output_type": "stream",
     "text": [
      "Epoch [3/4], Iter [100/781] Loss: 0.8847, iter_time: 5.92\n",
      "correct : 4096\n",
      "total : 6400\n",
      "Test Accuracy of the model on the 100 test images: 64 %\n",
      "Epoch [3/4], Iter [200/781] Loss: 1.0107, iter_time: 3.74\n",
      "correct : 3926\n",
      "total : 6400\n",
      "Test Accuracy of the model on the 100 test images: 61 %\n",
      "Epoch [3/4], Iter [300/781] Loss: 1.1582, iter_time: 3.74\n",
      "correct : 4041\n",
      "total : 6400\n",
      "Test Accuracy of the model on the 100 test images: 63 %\n",
      "Epoch [3/4], Iter [400/781] Loss: 0.9397, iter_time: 3.74\n",
      "correct : 4127\n",
      "total : 6400\n",
      "Test Accuracy of the model on the 100 test images: 64 %\n",
      "Epoch [3/4], Iter [500/781] Loss: 0.8665, iter_time: 3.74\n",
      "correct : 4210\n",
      "total : 6400\n",
      "Test Accuracy of the model on the 100 test images: 65 %\n",
      "Epoch [3/4], Iter [600/781] Loss: 0.7672, iter_time: 3.74\n",
      "correct : 4370\n",
      "total : 6400\n",
      "Test Accuracy of the model on the 100 test images: 68 %\n",
      "Epoch [3/4], Iter [700/781] Loss: 0.7650, iter_time: 3.73\n",
      "correct : 4274\n",
      "total : 6400\n",
      "Test Accuracy of the model on the 100 test images: 66 %\n"
     ]
    },
    {
     "data": {
      "image/png": "[encoded data removed]",
      "text/plain": [
       "<Figure size 432x288 with 1 Axes>"
      ]
     },
     "metadata": {
      "needs_background": "light"
     },
     "output_type": "display_data"
    },
    {
     "name": "stdout",
     "output_type": "stream",
     "text": [
      "Epoch [4/4], Iter [100/781] Loss: 0.7873, iter_time: 5.98\n",
      "correct : 4368\n",
      "total : 6400\n",
      "Test Accuracy of the model on the 100 test images: 68 %\n",
      "Epoch [4/4], Iter [200/781] Loss: 1.0145, iter_time: 3.74\n",
      "correct : 3976\n",
      "total : 6400\n",
      "Test Accuracy of the model on the 100 test images: 62 %\n",
      "Epoch [4/4], Iter [300/781] Loss: 1.0974, iter_time: 3.76\n",
      "correct : 4245\n",
      "total : 6400\n",
      "Test Accuracy of the model on the 100 test images: 66 %\n",
      "Epoch [4/4], Iter [400/781] Loss: 0.6692, iter_time: 3.75\n",
      "correct : 4346\n",
      "total : 6400\n",
      "Test Accuracy of the model on the 100 test images: 67 %\n",
      "Epoch [4/4], Iter [500/781] Loss: 0.8168, iter_time: 3.75\n",
      "correct : 4366\n",
      "total : 6400\n",
      "Test Accuracy of the model on the 100 test images: 68 %\n",
      "Epoch [4/4], Iter [600/781] Loss: 0.6142, iter_time: 3.77\n",
      "correct : 4557\n",
      "total : 6400\n",
      "Test Accuracy of the model on the 100 test images: 71 %\n",
      "Epoch [4/4], Iter [700/781] Loss: 0.8760, iter_time: 3.78\n",
      "correct : 4437\n",
      "total : 6400\n",
      "Test Accuracy of the model on the 100 test images: 69 %\n"
     ]
    },
    {
     "data": {
      "image/png": "[encoded data removed]",
      "text/plain": [
       "<Figure size 432x288 with 1 Axes>"
      ]
     },
     "metadata": {
      "needs_background": "light"
     },
     "output_type": "display_data"
    }
   ],
   "source": [
    "import torchvision.models as models\n",
    "# vgg19 = models.vgg19_bn(pretrained=False)\n",
    "\n",
    "tell_time = Timer()\n",
    "iter_time = 0\n",
    "\n",
    "# vgg19 = vgg19.cuda()\n",
    "vgg19 = VGG19().cuda()\n",
    "criterion = nn.CrossEntropyLoss()\n",
    "optimizer = torch.optim.Adam(vgg19.parameters(), lr=learning_rate)\n",
    "\n",
    "accuracy_list = []\n",
    "for epoch in range(num_epochs):\n",
    "    vgg19.train()\n",
    "    for i, (images, labels) in enumerate(train_loader):\n",
    "        images = Variable(images).cuda()\n",
    "        labels = Variable(labels).cuda()\n",
    "\n",
    "        # Forward + Backward + Optimize\n",
    "        optimizer.zero_grad()\n",
    "        outputs = vgg19(images)\n",
    "        loss = criterion(outputs, labels)\n",
    "        loss.backward()\n",
    "        optimizer.step()\n",
    "\n",
    "        if (i+1) % 100 == 0:\n",
    "            print ('Epoch [%d/%d], Iter [%d/%d] Loss: %.4f, iter_time: %2.2f' \n",
    "                 %(epoch+1, num_epochs, i+1, int(len(train_dataset))//float(batch_size), loss.item(), tell_time.toc()-iter_time))\n",
    "#                 %(epoch+1, num_epochs, i+1, torch.floor_divide(len(train_dataset), batch_size), loss.item(), tell_time.toc()-iter_time))\n",
    "            iter_time = tell_time.toc()    \n",
    "            accuracy_list = test_on_cifar10(vgg19, accuracy_list)\n",
    "\n",
    "    loss_plot(accuracy_list)"
   ]
  },
  {
   "cell_type": "markdown",
   "metadata": {},
   "source": [
    "## Train Cifar-10 with pre-trained VGG-19"
   ]
  },
  {
   "cell_type": "code",
   "execution_count": 18,
   "metadata": {
    "colab": {},
    "colab_type": "code",
    "id": "2wszStGbThqT"
   },
   "outputs": [
    {
     "name": "stderr",
     "output_type": "stream",
     "text": [
      "Downloading: \"https://download.pytorch.org/models/vgg19_bn-c79401a0.pth\" to C:\\Users\\Leki/.cache\\torch\\hub\\checkpoints\\vgg19_bn-c79401a0.pth\n"
     ]
    },
    {
     "data": {
      "application/vnd.jupyter.widget-view+json": {
       "model_id": "d37d43c4e77b468f9ceca260362441ae",
       "version_major": 2,
       "version_minor": 0
      },
      "text/plain": [
       "HBox(children=(FloatProgress(value=0.0, max=574769405.0), HTML(value='')))"
      ]
     },
     "metadata": {},
     "output_type": "display_data"
    },
    {
     "name": "stdout",
     "output_type": "stream",
     "text": [
      "\n"
     ]
    }
   ],
   "source": [
    "import torchvision.models as models\n",
    "pre_vgg=models.vgg19_bn(pretrained=True)"
   ]
  },
  {
   "cell_type": "code",
   "execution_count": 19,
   "metadata": {
    "colab": {},
    "colab_type": "code",
    "id": "JBjKGJ7_lJxK"
   },
   "outputs": [],
   "source": [
    "class pretrained_vgg(nn.Module):\n",
    "    def __init__(self, pre_vgg):\n",
    "        super(pretrained_vgg, self).__init__()\n",
    "        self.features = nn.Sequential(   \n",
    "            *list(pre_vgg.features.children())\n",
    "        )\n",
    "        self.linear = nn.Sequential(\n",
    "            nn.Linear(512, 512),\n",
    "            nn.ReLU(),\n",
    "            nn.Linear(512, 128),\n",
    "            nn.ReLU(),\n",
    "            nn.Linear(128, 10),\n",
    "        )\n",
    "    def forward(self, x):\n",
    "        out = self.features(x).squeeze()\n",
    "        out = self.linear(out)\n",
    "        return out"
   ]
  },
  {
   "cell_type": "code",
   "execution_count": 43,
   "metadata": {
    "colab": {
     "base_uri": "https://localhost:8080/",
     "height": 694
    },
    "colab_type": "code",
    "executionInfo": {
     "elapsed": 50578,
     "status": "error",
     "timestamp": 1525930034996,
     "user": {
      "displayName": "Keetae park",
      "photoUrl": "//lh4.googleusercontent.com/-HRf48e0fZvg/AAAAAAAAAAI/AAAAAAAAARU/UAGYNn-FRto/s50-c-k-no/photo.jpg",
      "userId": "112755870975618660481"
     },
     "user_tz": -540
    },
    "id": "8BWlG9AWlT3k",
    "outputId": "2311803b-08ff-459c-878b-fc9c5a042cdc"
   },
   "outputs": [
    {
     "name": "stdout",
     "output_type": "stream",
     "text": [
      "Epoch [1/4], Iter [100/781] Loss: 0.1843, iter_time: 2.58\n",
      "correct : 5692\n",
      "total : 6400\n",
      "Test Accuracy of the model on the 100 test images: 88 %\n",
      "Epoch [1/4], Iter [200/781] Loss: 0.1626, iter_time: 3.69\n",
      "correct : 5616\n",
      "total : 6400\n",
      "Test Accuracy of the model on the 100 test images: 87 %\n",
      "Epoch [1/4], Iter [300/781] Loss: 0.1280, iter_time: 3.68\n",
      "correct : 5656\n",
      "total : 6400\n",
      "Test Accuracy of the model on the 100 test images: 88 %\n",
      "Epoch [1/4], Iter [400/781] Loss: 0.1736, iter_time: 3.77\n",
      "correct : 5631\n",
      "total : 6400\n",
      "Test Accuracy of the model on the 100 test images: 87 %\n",
      "Epoch [1/4], Iter [500/781] Loss: 0.2240, iter_time: 3.70\n",
      "correct : 5554\n",
      "total : 6400\n",
      "Test Accuracy of the model on the 100 test images: 86 %\n",
      "Epoch [1/4], Iter [600/781] Loss: 0.0315, iter_time: 3.70\n",
      "correct : 5626\n",
      "total : 6400\n",
      "Test Accuracy of the model on the 100 test images: 87 %\n",
      "Epoch [1/4], Iter [700/781] Loss: 0.1902, iter_time: 3.70\n",
      "correct : 5564\n",
      "total : 6400\n",
      "Test Accuracy of the model on the 100 test images: 86 %\n"
     ]
    },
    {
     "data": {
      "image/png": "[encoded data removed]",
      "text/plain": [
       "<Figure size 432x288 with 1 Axes>"
      ]
     },
     "metadata": {
      "needs_background": "light"
     },
     "output_type": "display_data"
    },
    {
     "name": "stdout",
     "output_type": "stream",
     "text": [
      "Epoch [2/4], Iter [100/781] Loss: 0.0084, iter_time: 5.87\n",
      "correct : 5763\n",
      "total : 6400\n",
      "Test Accuracy of the model on the 100 test images: 90 %\n",
      "Epoch [2/4], Iter [200/781] Loss: 0.0282, iter_time: 3.72\n",
      "correct : 5655\n",
      "total : 6400\n",
      "Test Accuracy of the model on the 100 test images: 88 %\n",
      "Epoch [2/4], Iter [300/781] Loss: 0.0110, iter_time: 3.71\n",
      "correct : 5676\n",
      "total : 6400\n",
      "Test Accuracy of the model on the 100 test images: 88 %\n",
      "Epoch [2/4], Iter [400/781] Loss: 0.0897, iter_time: 3.72\n",
      "correct : 5519\n",
      "total : 6400\n",
      "Test Accuracy of the model on the 100 test images: 86 %\n",
      "Epoch [2/4], Iter [500/781] Loss: 0.0100, iter_time: 3.71\n",
      "correct : 5593\n",
      "total : 6400\n",
      "Test Accuracy of the model on the 100 test images: 87 %\n",
      "Epoch [2/4], Iter [600/781] Loss: 0.0443, iter_time: 3.71\n",
      "correct : 5671\n",
      "total : 6400\n",
      "Test Accuracy of the model on the 100 test images: 88 %\n",
      "Epoch [2/4], Iter [700/781] Loss: 0.1228, iter_time: 3.72\n",
      "correct : 5683\n",
      "total : 6400\n",
      "Test Accuracy of the model on the 100 test images: 88 %\n"
     ]
    },
    {
     "data": {
      "image/png": "[encoded data removed]",
      "text/plain": [
       "<Figure size 432x288 with 1 Axes>"
      ]
     },
     "metadata": {
      "needs_background": "light"
     },
     "output_type": "display_data"
    },
    {
     "name": "stdout",
     "output_type": "stream",
     "text": [
      "Epoch [3/4], Iter [100/781] Loss: 0.1176, iter_time: 5.91\n",
      "correct : 5714\n",
      "total : 6400\n",
      "Test Accuracy of the model on the 100 test images: 89 %\n",
      "Epoch [3/4], Iter [200/781] Loss: 0.0649, iter_time: 3.72\n",
      "correct : 5615\n",
      "total : 6400\n",
      "Test Accuracy of the model on the 100 test images: 87 %\n",
      "Epoch [3/4], Iter [300/781] Loss: 0.0062, iter_time: 3.72\n",
      "correct : 5512\n",
      "total : 6400\n",
      "Test Accuracy of the model on the 100 test images: 86 %\n",
      "Epoch [3/4], Iter [400/781] Loss: 0.0529, iter_time: 3.72\n",
      "correct : 5627\n",
      "total : 6400\n",
      "Test Accuracy of the model on the 100 test images: 87 %\n",
      "Epoch [3/4], Iter [500/781] Loss: 0.0793, iter_time: 3.72\n",
      "correct : 5607\n",
      "total : 6400\n",
      "Test Accuracy of the model on the 100 test images: 87 %\n",
      "Epoch [3/4], Iter [600/781] Loss: 0.0506, iter_time: 3.73\n",
      "correct : 5620\n",
      "total : 6400\n",
      "Test Accuracy of the model on the 100 test images: 87 %\n",
      "Epoch [3/4], Iter [700/781] Loss: 0.0183, iter_time: 3.74\n",
      "correct : 5651\n",
      "total : 6400\n",
      "Test Accuracy of the model on the 100 test images: 88 %\n"
     ]
    },
    {
     "data": {
      "image/png": "[encoded data removed]",
      "text/plain": [
       "<Figure size 432x288 with 1 Axes>"
      ]
     },
     "metadata": {
      "needs_background": "light"
     },
     "output_type": "display_data"
    },
    {
     "name": "stdout",
     "output_type": "stream",
     "text": [
      "Epoch [4/4], Iter [100/781] Loss: 0.0042, iter_time: 5.93\n",
      "correct : 5709\n",
      "total : 6400\n",
      "Test Accuracy of the model on the 100 test images: 89 %\n",
      "Epoch [4/4], Iter [200/781] Loss: 0.1936, iter_time: 3.73\n",
      "correct : 5588\n",
      "total : 6400\n",
      "Test Accuracy of the model on the 100 test images: 87 %\n",
      "Epoch [4/4], Iter [300/781] Loss: 0.0045, iter_time: 3.73\n",
      "correct : 5646\n",
      "total : 6400\n",
      "Test Accuracy of the model on the 100 test images: 88 %\n",
      "Epoch [4/4], Iter [400/781] Loss: 0.1931, iter_time: 3.73\n",
      "correct : 5524\n",
      "total : 6400\n",
      "Test Accuracy of the model on the 100 test images: 86 %\n",
      "Epoch [4/4], Iter [500/781] Loss: 0.2742, iter_time: 3.73\n",
      "correct : 5694\n",
      "total : 6400\n",
      "Test Accuracy of the model on the 100 test images: 88 %\n",
      "Epoch [4/4], Iter [600/781] Loss: 0.0807, iter_time: 3.78\n",
      "correct : 5681\n",
      "total : 6400\n",
      "Test Accuracy of the model on the 100 test images: 88 %\n",
      "Epoch [4/4], Iter [700/781] Loss: 0.0172, iter_time: 3.79\n",
      "correct : 5690\n",
      "total : 6400\n",
      "Test Accuracy of the model on the 100 test images: 88 %\n"
     ]
    },
    {
     "data": {
      "image/png": "[encoded data removed]",
      "text/plain": [
       "<Figure size 432x288 with 1 Axes>"
      ]
     },
     "metadata": {
      "needs_background": "light"
     },
     "output_type": "display_data"
    }
   ],
   "source": [
    "vgg19 = pretrained_vgg(pre_vgg)\n",
    "\n",
    "tell_time = Timer()\n",
    "iter_time = 0\n",
    "\n",
    "vgg19 = vgg19.cuda()\n",
    "criterion = nn.CrossEntropyLoss()\n",
    "optimizer = torch.optim.Adam(vgg19.parameters(), lr=learning_rate)\n",
    "\n",
    "accuracy_list = []\n",
    "for epoch in range(num_epochs):\n",
    "    vgg19.train()\n",
    "    for i, (images, labels) in enumerate(train_loader):\n",
    "        images = Variable(images).cuda()\n",
    "        labels = Variable(labels).cuda()\n",
    "\n",
    "        # Forward + Backward + Optimize\n",
    "        optimizer.zero_grad()\n",
    "        outputs = vgg19(images)\n",
    "        loss = criterion(outputs, labels)\n",
    "        loss.backward()\n",
    "        optimizer.step()\n",
    "\n",
    "        if (i+1) % 100 == 0:\n",
    "            print ('Epoch [%d/%d], Iter [%d/%d] Loss: %.4f, iter_time: %2.2f' \n",
    "                 %(epoch+1, num_epochs, i+1, int(len(train_dataset))//float(batch_size), loss.item(), tell_time.toc()-iter_time))\n",
    "#                  %(epoch+1, num_epochs, i+1, torch.floor_divide(len(train_dataset),batch_size), loss.item(), tell_time.toc()-iter_time))\n",
    "            iter_time = tell_time.toc()    \n",
    "            accuracy_list = test_on_cifar10(vgg19, accuracy_list)\n",
    "\n",
    "    loss_plot(accuracy_list)"
   ]
  },
  {
   "cell_type": "code",
   "execution_count": 25,
   "metadata": {},
   "outputs": [
    {
     "data": {
      "text/plain": [
       "'1.6.0'"
      ]
     },
     "execution_count": 25,
     "metadata": {},
     "output_type": "execute_result"
    }
   ],
   "source": []
  },
  {
   "cell_type": "code",
   "execution_count": null,
   "metadata": {},
   "outputs": [],
   "source": []
  }
 ],
 "metadata": {
  "accelerator": "GPU",
  "colab": {
   "collapsed_sections": [],
   "name": "CNN practice (답).ipynb",
   "provenance": [
    {
     "file_id": "1bS0JIU59dU7BthWliuu2kgSMNb2RVTMv",
     "timestamp": 1523422155966
    }
   ],
   "version": "0.3.2"
  },
  "kernelspec": {
   "display_name": "Python 3",
   "language": "python",
   "name": "python3"
  },
  "language_info": {
   "codemirror_mode": {
    "name": "ipython",
    "version": 3
   },
   "file_extension": ".py",
   "mimetype": "text/x-python",
   "name": "python",
   "nbconvert_exporter": "python",
   "pygments_lexer": "ipython3",
   "version": "3.6.12"
  }
 },
 "nbformat": 4,
 "nbformat_minor": 4
}
